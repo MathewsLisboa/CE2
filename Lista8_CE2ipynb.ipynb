{
  "nbformat": 4,
  "nbformat_minor": 0,
  "metadata": {
    "colab": {
      "name": "Lista8_CE2ipynb",
      "provenance": [],
      "toc_visible": true
    },
    "kernelspec": {
      "name": "python3",
      "display_name": "Python 3"
    },
    "language_info": {
      "name": "python"
    }
  },
  "cells": [
    {
      "cell_type": "markdown",
      "metadata": {
        "id": "i4YrXzsLNYw0"
      },
      "source": [
        "Nome: Mathews de Noronha Silveira Lisboa \\\\\n",
        "Matrícula :  170042324"
      ]
    },
    {
      "cell_type": "markdown",
      "metadata": {
        "id": "B3vVc5_cNg-I"
      },
      "source": [
        "## Exercícios Obrigatórios"
      ]
    },
    {
      "cell_type": "code",
      "metadata": {
        "colab": {
          "base_uri": "https://localhost:8080/"
        },
        "id": "V21fJl45NU5M",
        "outputId": "7773aaa6-92a1-4c42-854a-63634673515d"
      },
      "source": [
        "import random\n",
        "\n",
        "def escolhe(matricula):\n",
        "    random.seed(matricula)\n",
        "    cap1 = (2,8,9,11,12,15,16,18,20,21,22,24,26,27,28,30,31,32)    \n",
        "    cap2 = (36,40,44,45,46,48,50,51,53,55,56,57,59,60)\n",
        "    cap3 = (63,64,65,68,71,72,74,76,78,80,81,84)\n",
        "    cap4 = (85,86,87,89,91,92,94,97,99,101,103,104,106)\n",
        "    cap5 = (111,115,117,118,119,122,123,124,126,127,131,132,133)\n",
        "    cap6 = (138,139,140,141,144,147,148)\n",
        "    cap7 = (152,153,154,155,157,160,161,164,165,166,168,171,172)\n",
        "    cap8 = (174,175,176,177,179,181,182,185)\n",
        "    return(random.sample(cap8, k=2))\n",
        "\n",
        "print(\"Você deverá entregar os exercícios: \", escolhe(input(\"Escreva o número de sua matricula\")))"
      ],
      "execution_count": 1,
      "outputs": [
        {
          "output_type": "stream",
          "text": [
            "Escreva o número de sua matricula170042324\n",
            "Você deverá entregar os exercícios:  [177, 182]\n"
          ],
          "name": "stdout"
        }
      ]
    },
    {
      "cell_type": "markdown",
      "metadata": {
        "id": "2JKPlbJfNreD"
      },
      "source": [
        "### 177: : Roman Numerals"
      ]
    },
    {
      "cell_type": "markdown",
      "metadata": {
        "id": "HYI4zeYaQjk0"
      },
      "source": [
        "As the name implies, Roman numerals were developed in ancient Rome. Even after the Roman empire fell, its numerals continued to be widely used in Europe until the late middle ages, and its numerals are still used in limited circumstances today. Roman numerals are constructed from the letters M, D, C, L, X, V and I which represent 1000, 500, 100, 50, 10, 5 and 1 respectively. The numerals are generally written from largest value to smallest value. When this occurs the value of the number is the sum of the values of all of its numerals. If a smaller value precedes a larger value then the smaller value is subtracted from the larger value that it immediately precedes, and that difference is added to the value of the number.1 Create a recursive function that converts a Roman numeral to an integer. Your function should process one or two characters at the beginning of the string, and then call itself recursively on all of the unprocessed characters. Use an empty string, which has the value 0, for the base case. In addition, write a main program that reads a Roman numeral from the user and displays its value. You can assume that the value entered by the user is valid. Your program does not need to do any error checking."
      ]
    },
    {
      "cell_type": "code",
      "metadata": {
        "colab": {
          "base_uri": "https://localhost:8080/"
        },
        "id": "Xs67MH1KQnJr",
        "outputId": "a158d065-775f-41c5-daa4-908834329d72"
      },
      "source": [
        "def roman(s):\n",
        "    s = s.upper()\n",
        "    base = {\"\": 0, \"M\": 1000, \"D\": 500, \"C\": 100, \"L\": 50, \"X\": 10, \"V\": 5, \"I\": 1}\n",
        "\n",
        "    if s in base:\n",
        "        return base[s]\n",
        "    primeiro, segundo = map(roman, s[:2])\n",
        "    if primeiro < segundo:\n",
        "        return segundo - primeiro + roman(s[2:])\n",
        "    else:\n",
        "        return primeiro + roman(s[1:])\n",
        "print(roman(input(\"Insira um número romano: \")))"
      ],
      "execution_count": 6,
      "outputs": [
        {
          "output_type": "stream",
          "text": [
            "Insira um número romano: vii\n",
            "7\n"
          ],
          "name": "stdout"
        }
      ]
    },
    {
      "cell_type": "markdown",
      "metadata": {
        "id": "V9AWXXJUNtXf"
      },
      "source": [
        "###182: Spelling with Element Symbols"
      ]
    },
    {
      "cell_type": "markdown",
      "metadata": {
        "id": "bhgJ4XvWRXsC"
      },
      "source": [
        "Each chemical element has a standard symbol that is one, two or three letters long. One game that some people like to play is to determine whether or not a word can be spelled using only element symbols. For example, silicon can be spelled using the symbols Si, Li, C, O and N. However, hydrogen cannot be spelled with any combination of element symbols. Write a recursive function that determines whether or not a word can be spelled using only element symbols. Your function will require two parameters: the word that you are trying to spell and a list of the symbols that can be used. It will return a string containing the symbols used to achieve the spelling as its result, or an empty string if no spelling exists. Capitalization should be ignored when your function searches for a spelling. Create a program that uses your function to find and display all of the element names that can be spelled using only element symbols. Display the names of the elements along with the sequences of symbols. For example, one line of your output will be: Silver can be spelled as SiLvEr Your program will use the elements data set, which can be downloaded from the author’s website. This data set includes the names and symbols of all 118 chemical elements."
      ]
    },
    {
      "cell_type": "code",
      "metadata": {
        "colab": {
          "base_uri": "https://localhost:8080/"
        },
        "id": "C_Oq8WLqQukm",
        "outputId": "02417a98-1e82-4b9b-cffd-7f9832e7843d"
      },
      "source": [
        "def escreve_simb(string, symbols, spell=''):\n",
        "    string = string.casefold()\n",
        "    if not string:\n",
        "        return spell\n",
        "    for sym in symbols:\n",
        "        if string[:len(sym)] == sym.lower():\n",
        "            spell+=sym\n",
        "            break\n",
        "    else:\n",
        "        return ''\n",
        "    \n",
        "    return escreve_simb(string[len(sym):], symbols, spell)\n",
        "\n",
        "with open(\"elements.txt\", \"r\") as f:\n",
        "    elementos = dict(linha.rstrip().split(',')[1:] for linha in f)\n",
        "simbolos = elementos.keys()\n",
        "\n",
        "for elemento in elementos.values():\n",
        "    conv = escreve_simb(elemento, simbolos)\n",
        "    if conv:\n",
        "        print(f\"{elemento} pode ser escrito como {conv}.\")\n",
        "    #else:\n",
        "    #    print(f\"{elemento} não pode ser escrito com simbolos.\")"
      ],
      "execution_count": 9,
      "outputs": [
        {
          "output_type": "stream",
          "text": [
            "Carbon pode ser escrito como CArBON.\n",
            "Silicon pode ser escrito como SiLiCON.\n",
            "Phosphorus pode ser escrito como PHOSPHORuS.\n",
            "Copper pode ser escrito como COPPEr.\n",
            "Silver pode ser escrito como SiLvEr.\n",
            "Tin pode ser escrito como TiN.\n",
            "Xenon pode ser escrito como XeNON.\n"
          ],
          "name": "stdout"
        }
      ]
    }
  ]
}